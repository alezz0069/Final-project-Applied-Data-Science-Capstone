{
 "cells": [
  {
   "cell_type": "markdown",
   "metadata": {},
   "source": [
    "#General rules for solving the car traffic at the entrance of the Lima-Peru Airport (2020)\n"
   ]
  },
  {
   "cell_type": "markdown",
   "metadata": {},
   "source": [
    "##Introduction"
   ]
  },
  {
   "cell_type": "markdown",
   "metadata": {},
   "source": [
    "###Background: \n",
    "\n",
    "The main entrance at the mentioned Airport has only a main road that connects it to the city. \n",
    "Due to the increment of car sales, the total ammount of cars in Lima-Peru city has already collapsed most of the highways.\n",
    "In fact, recent studies have calculated that the daily mean commuting time for a young person using the public transport is 4 hours a day. This kind of waste of time among mostly every citizen at the city, impacts on the economy and personal and professional development of the city, as well in the personal mental health of the Lima's citizens.  \n",
    "\n",
    "Particularly, this road that connects the city to the Airport is already collapsed and impacting many bussiness which see their logistics time delayed due to the traffic at this road. \n",
    "\n",
    "\n"
   ]
  },
  {
   "cell_type": "markdown",
   "metadata": {},
   "source": [
    "###Problem\n",
    "There is no data nor AI for controlling the traffic at the entrance of the airport.\n",
    "This project aims to give a set of rules that drivers and traffic lights should follow in order to reduce the waste of time commuting to the airport. As well this solution could be applyed to the rest of roads of the city. \n",
    "\n"
   ]
  },
  {
   "cell_type": "markdown",
   "metadata": {},
   "source": [
    "##2. Data acquisition and cleaning\n",
    "\n"
   ]
  },
  {
   "cell_type": "markdown",
   "metadata": {},
   "source": [
    "\n",
    "###2.1 Data sources\n",
    "Eventhoug there are traffic police officers,traffic lights and traffic signs, the lack of real time data, an analyzis and real time response is necessary to do this study. To accomplish this task, many devices for data collecting must be installed. All this data will be gathered at a main computer in wich an AI will give the set of rules for the traffic lights and transit signs in order to make the traffic flow constant. \n"
   ]
  },
  {
   "cell_type": "markdown",
   "metadata": {},
   "source": [
    "###2.2 Data cleaning\n",
    "The data collected from the streets, will be gathered into one table. \n",
    "The data collected at the dawn of the day and on hollidays, will not be considered for being an special case for traffic flow behaviour. Also data that was affected by accidents or particular mechanical problems at the road , will not be consider for being rare particular cases. "
   ]
  },
  {
   "cell_type": "markdown",
   "metadata": {},
   "source": [
    "###2.3 Feature selection\n",
    "After the cleanse of the data, the objective is finding correlations among the variables collected and the heaviest traffic flow conditions. Variables such as time of the day vs traffic conditions vs mean commuting time will be analyzed to find patters and correlations. "
   ]
  },
  {
   "cell_type": "markdown",
   "metadata": {},
   "source": [
    "##3. Predictive Model"
   ]
  },
  {
   "cell_type": "markdown",
   "metadata": {},
   "source": [
    "\n",
    "There are two types of models, regression and classification, that can be used to predict the better set of rules for better traffic flow conditions . Regression models can provide additional information on the amount of\n",
    "improvement, while classification models focus on the probabilities of having heavy traffic conditions at certain hour. The\n",
    "underlying algorithms are similar between regression and classification models. \n",
    "\n",
    "One of the key tools in the system will be automated traffic signals. It will help the Police Department to analyse the traffic pattern, volume, number of vehicles and collect them on a cloud which will be further used to manage the traffic.\n",
    "It will also collect data using features like high-resolution CCTV cameras to capture commuters and motorists breaking the laws and automated number plate recognition cameras (ANPR) to directly send the challan (fine slip) to the homes of law breakers.\n",
    "Approximately, 7,500 cameras with multidirectional infrared and colourless laser sensors will count the volume on all arterial roads based on image pattern analysis."
   ]
  },
  {
   "cell_type": "markdown",
   "metadata": {},
   "source": [
    "##4. Conclusions"
   ]
  },
  {
   "cell_type": "markdown",
   "metadata": {},
   "source": [
    "Having a real time data collection and a real time response, the traffic flow could be inproved at this part of the city, productivity at enterpreises related to the airport will increase and lesser logistic times will be achieved. \n",
    "\n",
    "The analysis and simulation of traffic conditions using this set of rules determined by this IA, estimated that average traffic speed increased by 15 percent and traffic violations were reported with 92 percent accuracy."
   ]
  },
  {
   "cell_type": "markdown",
   "metadata": {},
   "source": [
    "##5. Further work"
   ]
  },
  {
   "cell_type": "markdown",
   "metadata": {},
   "source": [
    "Further work should be implementet using the GPS track at every car and the conditions at the road in order to achieve a better traffic flow for the other roads at the Lima's city particular traffic problem. "
   ]
  }
 ],
 "metadata": {
  "kernelspec": {
   "display_name": "Python",
   "language": "python",
   "name": "conda-env-python-py"
  },
  "language_info": {
   "codemirror_mode": {
    "name": "ipython",
    "version": 3
   },
   "file_extension": ".py",
   "mimetype": "text/x-python",
   "name": "python",
   "nbconvert_exporter": "python",
   "pygments_lexer": "ipython3",
   "version": "3.6.11"
  }
 },
 "nbformat": 4,
 "nbformat_minor": 4
}
